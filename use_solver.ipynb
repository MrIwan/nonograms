{
 "cells": [
  {
   "cell_type": "code",
   "execution_count": 1,
   "metadata": {},
   "outputs": [],
   "source": [
    "%load_ext autoreload\n",
    "%autoreload 2"
   ]
  },
  {
   "cell_type": "code",
   "execution_count": 9,
   "metadata": {},
   "outputs": [
    {
     "name": "stdout",
     "output_type": "stream",
     "text": [
      "row_res = [[1], [1]]\n",
      "col_res = [[1], [1]]\n",
      "-  -  -\n",
      "   1  1\n",
      "1  ?  ?\n",
      "1  ?  ?\n",
      "-  -  -\n",
      "eingabe war = ['1', '0', '1']\n",
      "row_res = [[1], [1]]\n",
      "col_res = [[1], [1]]\n",
      "-  -  -\n",
      "   1  1\n",
      "1  ?  ?\n",
      "1  ■  ?\n",
      "-  -  -\n",
      "eingabe war = ['0', '1', '1']\n",
      "row_res = [[1], [1]]\n",
      "col_res = [[1], [1]]\n",
      "-  -  -\n",
      "   1  1\n",
      "1  ?  ■\n",
      "1  ■  ?\n",
      "-  -  -\n",
      "eingabe war = ['q']\n"
     ]
    },
    {
     "ename": "TypeError",
     "evalue": "'bool' object is not callable",
     "output_type": "error",
     "traceback": [
      "\u001b[31m---------------------------------------------------------------------------\u001b[39m",
      "\u001b[31mTypeError\u001b[39m                                 Traceback (most recent call last)",
      "\u001b[36mCell\u001b[39m\u001b[36m \u001b[39m\u001b[32mIn[9]\u001b[39m\u001b[32m, line 17\u001b[39m\n\u001b[32m     11\u001b[39m nng = nng_base.NNGManual(\n\u001b[32m     12\u001b[39m     size=SIZE,\n\u001b[32m     13\u001b[39m     row_restrictions=row_res,\n\u001b[32m     14\u001b[39m     col_restrictions=col_res)\n\u001b[32m     16\u001b[39m nng.solve()\n\u001b[32m---> \u001b[39m\u001b[32m17\u001b[39m \u001b[38;5;28mprint\u001b[39m(\u001b[43mnng\u001b[49m\u001b[43m.\u001b[49m\u001b[43msolved\u001b[49m\u001b[43m(\u001b[49m\u001b[43m)\u001b[49m)\n",
      "\u001b[31mTypeError\u001b[39m: 'bool' object is not callable"
     ]
    },
    {
     "data": {
      "image/png": "[encoded data removed]",
      "text/plain": [
       "<Figure size 640x480 with 1 Axes>"
      ]
     },
     "metadata": {},
     "output_type": "display_data"
    }
   ],
   "source": [
    "from solver import create_nng, nng_base\n",
    "\n",
    "SIZE = 2\n",
    "\n",
    "row_res, col_res = create_nng.create_nng_from_image(\n",
    "    path = 'ressources/Cats.jpg',\n",
    "    size=SIZE,\n",
    "    show_image=True\n",
    ")\n",
    "\n",
    "nng = nng_base.NNGManual(\n",
    "    size=SIZE,\n",
    "    row_restrictions=row_res,\n",
    "    col_restrictions=col_res)\n",
    "\n",
    "nng.solve()"
   ]
  },
  {
   "cell_type": "code",
   "execution_count": 31,
   "metadata": {},
   "outputs": [
    {
     "name": "stdout",
     "output_type": "stream",
     "text": [
      "[[3 3 0]\n",
      " [3 2 0]\n",
      " [3 3 0]\n",
      " [3 3 0]\n",
      " [1 3 2]\n",
      " [3 3 0]\n",
      " [3 2 0]\n",
      " [3 3 0]\n",
      " [3 3 0]\n",
      " [1 3 2]]\n"
     ]
    }
   ],
   "source": [
    "import numpy as np\n",
    "array = [[3, 3], [3, 2], [3, 3], [3, 3], [1, 3, 2], [3, 3], [3, 2], [3, 3], [3, 3], [1, 3, 2]]\n",
    "\n",
    "# Bestimme die maximale Länge der Subarrays\n",
    "max_length = max(len(subarray) for subarray in array)\n",
    "\n",
    "# Fülle die Subarrays mit Nullen auf\n",
    "padded_array = [subarray + [0] * (max_length - len(subarray)) for subarray in array]\n",
    "\n",
    "# Erstelle ein NumPy-Array\n",
    "np_array = np.array(padded_array)\n",
    "\n",
    "print(np_array)"
   ]
  },
  {
   "cell_type": "code",
   "execution_count": null,
   "metadata": {},
   "outputs": [],
   "source": []
  }
 ],
 "metadata": {
  "kernelspec": {
   "display_name": "nng",
   "language": "python",
   "name": "python3"
  },
  "language_info": {
   "codemirror_mode": {
    "name": "ipython",
    "version": 3
   },
   "file_extension": ".py",
   "mimetype": "text/x-python",
   "name": "python",
   "nbconvert_exporter": "python",
   "pygments_lexer": "ipython3",
   "version": "3.13.2"
  }
 },
 "nbformat": 4,
 "nbformat_minor": 2
}
