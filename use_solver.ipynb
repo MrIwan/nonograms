{
 "cells": [
  {
   "cell_type": "code",
   "execution_count": 1,
   "metadata": {},
   "outputs": [],
   "source": [
    "%load_ext autoreload\n",
    "%autoreload 2"
   ]
  },
  {
   "cell_type": "code",
   "execution_count": 5,
   "metadata": {},
   "outputs": [
    {
     "name": "stdout",
     "output_type": "stream",
     "text": [
      "False\n"
     ]
    }
   ],
   "source": [
    "\n",
    "\n",
    "\n",
    "import numpy as np\n",
    "from solver import nng_base\n",
    "\n",
    "row_restrictions = [[2,1], [3], [1,1,1], [4], [2]]\n",
    "col_restrictions = [[2,1], [3,1], [2,1], [2,1], [1]]\n",
    "\n",
    "nng = nng_base.NNGBase(\n",
    "    size=5,\n",
    "    row_restrictions=row_restrictions,\n",
    "    col_restrictions=col_restrictions )\n",
    "\n",
    "nng.matrix = np.array([\n",
    "    [1,1,0,1,0],\n",
    "    [0,1,1,1,0],\n",
    "    [1,0,1,0,1],\n",
    "    [1,1,1,1,0],\n",
    "    [0,1,1,0,0]\n",
    "], dtype=np.int8)\n",
    "\n",
    "print(nng.solved())  # True"
   ]
  },
  {
   "cell_type": "code",
   "execution_count": null,
   "metadata": {},
   "outputs": [],
   "source": []
  }
 ],
 "metadata": {
  "kernelspec": {
   "display_name": "nng",
   "language": "python",
   "name": "python3"
  },
  "language_info": {
   "codemirror_mode": {
    "name": "ipython",
    "version": 3
   },
   "file_extension": ".py",
   "mimetype": "text/x-python",
   "name": "python",
   "nbconvert_exporter": "python",
   "pygments_lexer": "ipython3",
   "version": "3.12.2"
  }
 },
 "nbformat": 4,
 "nbformat_minor": 2
}
