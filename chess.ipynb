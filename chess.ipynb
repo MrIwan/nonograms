{
 "cells": [
  {
   "cell_type": "code",
   "execution_count": 1,
   "metadata": {},
   "outputs": [],
   "source": [
    "import chess.pgn\n",
    "import chess\n",
    "import chess.svg\n",
    "import requests\n"
   ]
  },
  {
   "cell_type": "code",
   "execution_count": 2,
   "metadata": {},
   "outputs": [],
   "source": [
    "# Setzen Sie Ihren Lichess Benutzernamen und den Ausgabedateipfad\n",
    "username = \"SchachlordZlatan\"\n",
    "file = \"alle_spiele.pgn\""
   ]
  },
  {
   "cell_type": "code",
   "execution_count": 3,
   "metadata": {},
   "outputs": [],
   "source": [
    "def download_all_games(username, output_file):\n",
    "    url = f\"https://lichess.org/api/games/user/{username}\"\n",
    "    response = requests.get(url)\n",
    "\n",
    "    if response.status_code == 200:\n",
    "        with open(output_file, 'wb') as f:\n",
    "            f.write(response.content)\n",
    "        print(f\"Alle Spiele von {username} wurden erfolgreich heruntergeladen und in {output_file} gespeichert.\")\n",
    "    else:\n",
    "        print(f\"Fehler beim Herunterladen der Spiele von {username}. Statuscode: {response.status_code}\")\n",
    "\n",
    "# download_all_games(username, file)\n"
   ]
  },
  {
   "cell_type": "code",
   "execution_count": 13,
   "metadata": {},
   "outputs": [],
   "source": [
    "def filter_won_games(pgn_file, player_name):\n",
    "    with open(pgn_file) as f:\n",
    "        while True:\n",
    "            game = chess.pgn.read_game(f)\n",
    "            if game is None:\n",
    "                break\n",
    "\n",
    "            headers = game.headers\n",
    "            result = headers[\"Result\"]\n",
    "            white = headers[\"White\"]\n",
    "            black = headers[\"Black\"]\n",
    "\n",
    "            if result.startswith(\"1-0\") and white == player_name:\n",
    "                yield game\n",
    "\n",
    "            elif result.startswith(\"0-1\") and black == player_name:\n",
    "                yield game\n",
    "\n",
    "\n",
    "# won_games = filter_won_games(file, username)\n",
    "\n",
    "# for game in won_games:\n",
    "#     print(game.headers[\"Event\"])"
   ]
  },
  {
   "cell_type": "code",
   "execution_count": 20,
   "metadata": {},
   "outputs": [
    {
     "name": "stdout",
     "output_type": "stream",
     "text": [
      "728\n"
     ]
    }
   ],
   "source": [
    "def filter_games_with_knight_check(games):\n",
    "    filtered_games = []\n",
    "\n",
    "    for game in games:\n",
    "        board = game.board()\n",
    "        has_knight_check = False\n",
    "\n",
    "        for move in game.mainline_moves():\n",
    "            board.push(move)\n",
    "\n",
    "            # Überprüfen, ob das Pferd ein Schach gibt\n",
    "            if board.is_check():\n",
    "                king_square = board.king(board.turn)\n",
    "                attackers = board.attackers(not board.turn, king_square)\n",
    "                for attacker_square in attackers:\n",
    "                    if board.piece_at(attacker_square).piece_type == chess.PieceType.KNIGHT:\n",
    "                        has_knight_check = True\n",
    "                        break\n",
    "\n",
    "            if has_knight_check:\n",
    "                filtered_games.append(game)\n",
    "                break\n",
    "\n",
    "    return filtered_games\n",
    "\n",
    "# Beispielaufruf\n",
    "games = list(filter_won_games(file, username))\n",
    "filtered_games = filter_games_with_knight_check(games)\n",
    "\n",
    "for game in filtered_games:\n",
    "    print(game.headers[\"Event\"])\n",
    "\n"
   ]
  },
  {
   "cell_type": "code",
   "execution_count": null,
   "metadata": {},
   "outputs": [],
   "source": []
  }
 ],
 "metadata": {
  "kernelspec": {
   "display_name": "nng",
   "language": "python",
   "name": "python3"
  },
  "language_info": {
   "codemirror_mode": {
    "name": "ipython",
    "version": 3
   },
   "file_extension": ".py",
   "mimetype": "text/x-python",
   "name": "python",
   "nbconvert_exporter": "python",
   "pygments_lexer": "ipython3",
   "version": "3.12.2"
  }
 },
 "nbformat": 4,
 "nbformat_minor": 2
}
